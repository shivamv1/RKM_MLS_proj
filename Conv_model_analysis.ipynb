{
  "nbformat": 4,
  "nbformat_minor": 0,
  "metadata": {
    "accelerator": "GPU",
    "colab": {
      "name": "Conv2d.ipynb",
      "provenance": []
    },
    "kernelspec": {
      "display_name": "Python 3",
      "language": "python",
      "name": "python3"
    },
    "language_info": {
      "codemirror_mode": {
        "name": "ipython",
        "version": 3
      },
      "file_extension": ".py",
      "mimetype": "text/x-python",
      "name": "python",
      "nbconvert_exporter": "python",
      "pygments_lexer": "ipython3",
      "version": "3.9.5"
    }
  },
  "cells": [
    {
      "cell_type": "markdown",
      "metadata": {
        "id": "bd-VASYQc_sL"
      },
      "source": [
        "# Jet Tagging with **Conv2D** \n",
        "\n",
        "\n",
        "### Date: Jun 20, 2021 \n",
        "### Shivam Verma\n",
        "#### Research Scholar, Dept. of Physics, RKMVERI"
      ]
    },
    {
      "cell_type": "markdown",
      "metadata": {
        "id": "mOsXdM1K1FMd"
      },
      "source": [
        "**Objective**: Jet identification task using a Conv2D multiclass classifier."
      ]
    },
    {
      "cell_type": "markdown",
      "metadata": {
        "id": "AL9Z6bIn1OXd"
      },
      "source": [
        "**Problem**: The problem consists in identifying a given jet as a quark, a gluon, a W, a Z, or a top,\n",
        "based on a jet image, i.e., a 2D histogram of the transverse momentum ($p_T$) deposited in each of 100x100\n",
        "bins of a square window of the ($\\eta$, $\\phi$) plane, centered along the jet axis."
      ]
    },
    {
      "cell_type": "code",
      "metadata": {
        "id": "fIvmX93Uc_sQ"
      },
      "source": [
        "import h5py          #To read the data file\n",
        "import numpy as np\n",
        "import matplotlib.pyplot as plt\n",
        "import pandas as pd\n",
        "from sklearn.metrics import roc_curve, auc\n",
        "from sklearn.model_selection import train_test_split\n",
        "%matplotlib inline"
      ],
      "execution_count": 1,
      "outputs": []
    },
    {
      "cell_type": "code",
      "metadata": {
        "id": "GtcbS6R6c_sR"
      },
      "source": [
        "# kera packages\n",
        "from tensorflow.keras.models import Model\n",
        "from tensorflow.keras.layers import Dense, Input, Conv2D, Dropout, Flatten\n",
        "from tensorflow.keras.layers import MaxPooling2D, BatchNormalization, Activation\n",
        "from tensorflow.keras.callbacks import EarlyStopping, ReduceLROnPlateau, TerminateOnNaN"
      ],
      "execution_count": 2,
      "outputs": []
    },
    {
      "cell_type": "markdown",
      "metadata": {
        "id": "g9FnYQ04c_sS"
      },
      "source": [
        "# Preparating the training and validation data"
      ]
    },
    {
      "cell_type": "code",
      "metadata": {
        "colab": {
          "base_uri": "https://localhost:8080/"
        },
        "id": "PAMdMmegdS4U",
        "outputId": "85541e8a-0231-4ee6-b393-fc915f3b35cc"
      },
      "source": [
        "! git clone https://github.com/shivamv1/RKM_MLS_proj.git"
      ],
      "execution_count": 3,
      "outputs": [
        {
          "output_type": "stream",
          "text": [
            "fatal: destination path 'RKM_MLS_proj' already exists and is not an empty directory.\n"
          ],
          "name": "stdout"
        }
      ]
    },
    {
      "cell_type": "code",
      "metadata": {
        "colab": {
          "base_uri": "https://localhost:8080/"
        },
        "id": "_0CjmiZYd1EA",
        "outputId": "a553a02f-9d84-4ac2-fd7a-5eef6dd27344"
      },
      "source": [
        "inputDir = \"RKM_MLS_proj/Data/JetDataset\"\n",
        "! ls RKM_MLS_proj/Data/JetDataset/"
      ],
      "execution_count": 4,
      "outputs": [
        {
          "output_type": "stream",
          "text": [
            "jetImage_7_100p_0_10000.h5\tjetImage_7_100p_50000_60000.h5\n",
            "jetImage_7_100p_10000_20000.h5\tjetImage_7_100p_60000_70000.h5\n",
            "jetImage_7_100p_30000_40000.h5\tjetImage_7_100p_70000_80000.h5\n",
            "jetImage_7_100p_40000_50000.h5\tjetImage_7_100p_80000_90000.h5\n"
          ],
          "name": "stdout"
        }
      ]
    },
    {
      "cell_type": "code",
      "metadata": {
        "colab": {
          "base_uri": "https://localhost:8080/"
        },
        "id": "BygVAZxTc_sT",
        "outputId": "df2ee06f-fdad-4028-8367-15d7fbecf8b9"
      },
      "source": [
        "target = np.array([])\n",
        "jetImage = np.array([])\n",
        "datafiles = ['%s/jetImage_7_100p_30000_40000.h5' %inputDir,\n",
        "           '%s/jetImage_7_100p_60000_70000.h5' %inputDir,\n",
        "            '%s/jetImage_7_100p_50000_60000.h5' %inputDir,\n",
        "            '%s/jetImage_7_100p_10000_20000.h5' %inputDir,\n",
        "            '%s/jetImage_7_100p_0_10000.h5' %inputDir]\n",
        "for fileIN in datafiles:\n",
        "    print(\"Appending %s\" %fileIN)\n",
        "    f = h5py.File(fileIN)\n",
        "    myjetImage = np.array(f.get(\"jetImage\"))\n",
        "    mytarget = np.array(f.get('jets')[0:,-6:-1])\n",
        "    jetImage = np.concatenate([jetImage, myjetImage], axis=0) if jetImage.size else myjetImage\n",
        "    target = np.concatenate([target, mytarget], axis=0) if target.size else mytarget\n",
        "    f.close()\n",
        "print(target.shape, jetImage.shape)"
      ],
      "execution_count": 5,
      "outputs": [
        {
          "output_type": "stream",
          "text": [
            "Appending RKM_MLS_proj/Data/JetDataset/jetImage_7_100p_30000_40000.h5\n",
            "Appending RKM_MLS_proj/Data/JetDataset/jetImage_7_100p_60000_70000.h5\n",
            "Appending RKM_MLS_proj/Data/JetDataset/jetImage_7_100p_50000_60000.h5\n",
            "Appending RKM_MLS_proj/Data/JetDataset/jetImage_7_100p_10000_20000.h5\n",
            "Appending RKM_MLS_proj/Data/JetDataset/jetImage_7_100p_0_10000.h5\n",
            "(50000, 5) (50000, 100, 100)\n"
          ],
          "name": "stdout"
        }
      ]
    },
    {
      "cell_type": "markdown",
      "metadata": {
        "id": "8G1tu-bfc_sV"
      },
      "source": [
        "# Spliting Data Train:Val = 75:25"
      ]
    },
    {
      "cell_type": "code",
      "metadata": {
        "colab": {
          "base_uri": "https://localhost:8080/"
        },
        "id": "In3xyDn7c_sW",
        "outputId": "9e7d2b83-b532-4c7d-88b8-3a08b9800180"
      },
      "source": [
        "X_train, X_val, y_train, y_val = train_test_split(jetImage, target, test_size=0.25)\n",
        "print(X_train.shape, X_val.shape, y_train.shape, y_val.shape)"
      ],
      "execution_count": 6,
      "outputs": [
        {
          "output_type": "stream",
          "text": [
            "(37500, 100, 100) (12500, 100, 100) (37500, 5) (12500, 5)\n"
          ],
          "name": "stdout"
        }
      ]
    },
    {
      "cell_type": "markdown",
      "metadata": {
        "id": "BTIiu1LTc_sX"
      },
      "source": [
        "Reshaping the training dataset since in keras  images are representable as $n \\times m \\times k$ tensors, where $n \\times m$ are the pixel dimenions and $k$ is the number of channels (e.g., 1 in a black $\\&$ while image, 3 for an RGB image). In our case, $k=1$. To comply to this, we add the channel index by reshaping the image dataset"
      ]
    },
    {
      "cell_type": "code",
      "metadata": {
        "colab": {
          "base_uri": "https://localhost:8080/"
        },
        "id": "IxgUbqVBc_sX",
        "outputId": "6d5f9607-0050-4c62-e3b1-01ee24938226"
      },
      "source": [
        "X_train = X_train.reshape((X_train.shape[0], X_train.shape[1], X_train.shape[2], 1))\n",
        "X_val = X_val.reshape((X_val.shape[0], X_val.shape[1], X_val.shape[2], 1))\n",
        "print(X_train.shape, X_val.shape, y_train.shape, y_val.shape)\n",
        "del jetImage, target"
      ],
      "execution_count": 7,
      "outputs": [
        {
          "output_type": "stream",
          "text": [
            "(37500, 100, 100, 1) (12500, 100, 100, 1) (37500, 5) (12500, 5)\n"
          ],
          "name": "stdout"
        }
      ]
    },
    {
      "cell_type": "markdown",
      "metadata": {
        "id": "HA24fJk5c_sY"
      },
      "source": [
        "# Model building"
      ]
    },
    {
      "cell_type": "code",
      "metadata": {
        "id": "GA7_Ts22c_sZ"
      },
      "source": [
        "img_rows = X_train.shape[1]\n",
        "img_cols = X_train.shape[2]\n",
        "dropoutRate = 0.25"
      ],
      "execution_count": 16,
      "outputs": []
    },
    {
      "cell_type": "code",
      "metadata": {
        "id": "83edbtqNc_sZ"
      },
      "source": [
        "image_shape = (img_rows, img_cols, 1)\n",
        "#\n",
        "inputImage = Input(shape=(image_shape))\n",
        "x = Conv2D(5, kernel_size=(5,5), data_format=\"channels_last\", strides=(1, 1), padding=\"same\")(inputImage)\n",
        "x = BatchNormalization()(x)\n",
        "x = Activation('relu')(x)\n",
        "x = MaxPooling2D( pool_size = (5,5))(x)\n",
        "x = Dropout(dropoutRate)(x)\n",
        "#\n",
        "x = Conv2D(3, kernel_size=(3,3), data_format=\"channels_last\", strides=(1, 1), padding=\"same\")(x)\n",
        "x = BatchNormalization()(x)\n",
        "x = Activation('relu')(x)\n",
        "x = MaxPooling2D( pool_size = (3,3))(x)\n",
        "x = Dropout(dropoutRate)(x)\n",
        "#\n",
        "x = Flatten()(x)\n",
        "#\n",
        "x = Dense(10, activation='relu')(x)\n",
        "#\n",
        "output = Dense(5, activation='softmax')(x)\n",
        "#\n",
        "model = Model(inputs=inputImage, outputs=output)"
      ],
      "execution_count": 17,
      "outputs": []
    },
    {
      "cell_type": "code",
      "metadata": {
        "colab": {
          "base_uri": "https://localhost:8080/"
        },
        "id": "_bGl_kmic_sa",
        "outputId": "f712f4b8-041e-4661-b982-8cbfa202aa80"
      },
      "source": [
        "model.compile(loss='categorical_crossentropy', optimizer='adam')\n",
        "model.summary()"
      ],
      "execution_count": 18,
      "outputs": [
        {
          "output_type": "stream",
          "text": [
            "Model: \"model_1\"\n",
            "_________________________________________________________________\n",
            "Layer (type)                 Output Shape              Param #   \n",
            "=================================================================\n",
            "input_2 (InputLayer)         [(None, 100, 100, 1)]     0         \n",
            "_________________________________________________________________\n",
            "conv2d_2 (Conv2D)            (None, 100, 100, 5)       130       \n",
            "_________________________________________________________________\n",
            "batch_normalization_2 (Batch (None, 100, 100, 5)       20        \n",
            "_________________________________________________________________\n",
            "activation_2 (Activation)    (None, 100, 100, 5)       0         \n",
            "_________________________________________________________________\n",
            "max_pooling2d_2 (MaxPooling2 (None, 20, 20, 5)         0         \n",
            "_________________________________________________________________\n",
            "dropout_2 (Dropout)          (None, 20, 20, 5)         0         \n",
            "_________________________________________________________________\n",
            "conv2d_3 (Conv2D)            (None, 20, 20, 3)         138       \n",
            "_________________________________________________________________\n",
            "batch_normalization_3 (Batch (None, 20, 20, 3)         12        \n",
            "_________________________________________________________________\n",
            "activation_3 (Activation)    (None, 20, 20, 3)         0         \n",
            "_________________________________________________________________\n",
            "max_pooling2d_3 (MaxPooling2 (None, 6, 6, 3)           0         \n",
            "_________________________________________________________________\n",
            "dropout_3 (Dropout)          (None, 6, 6, 3)           0         \n",
            "_________________________________________________________________\n",
            "flatten_1 (Flatten)          (None, 108)               0         \n",
            "_________________________________________________________________\n",
            "dense_2 (Dense)              (None, 10)                1090      \n",
            "_________________________________________________________________\n",
            "dense_3 (Dense)              (None, 5)                 55        \n",
            "=================================================================\n",
            "Total params: 1,445\n",
            "Trainable params: 1,429\n",
            "Non-trainable params: 16\n",
            "_________________________________________________________________\n"
          ],
          "name": "stdout"
        }
      ]
    },
    {
      "cell_type": "markdown",
      "metadata": {
        "id": "8sV3yz8Lc_sb"
      },
      "source": [
        "# Training the model"
      ]
    },
    {
      "cell_type": "code",
      "metadata": {
        "id": "L5JoeHSac_sb"
      },
      "source": [
        "batch_size = 128\n",
        "n_epochs = 200"
      ],
      "execution_count": 19,
      "outputs": []
    },
    {
      "cell_type": "code",
      "metadata": {
        "colab": {
          "base_uri": "https://localhost:8080/"
        },
        "id": "V1Ft2vqVc_sc",
        "outputId": "f81bddae-18e9-474a-f761-aa77f5486a3b"
      },
      "source": [
        "# train \n",
        "history = model.fit(X_train, y_train, epochs=n_epochs, batch_size=batch_size, verbose = 2,\n",
        "                validation_data=(X_val, y_val),\n",
        "                callbacks = [\n",
        "                EarlyStopping(monitor='val_loss', patience=10, verbose=1),\n",
        "                ReduceLROnPlateau(monitor='val_loss', factor=0.1, patience=5, verbose=1),\n",
        "                TerminateOnNaN()])"
      ],
      "execution_count": 20,
      "outputs": [
        {
          "output_type": "stream",
          "text": [
            "Epoch 1/200\n",
            "293/293 - 5s - loss: 1.6649 - val_loss: 1.4212\n",
            "Epoch 2/200\n",
            "293/293 - 3s - loss: 1.4280 - val_loss: 1.3606\n",
            "Epoch 3/200\n",
            "293/293 - 3s - loss: 1.3683 - val_loss: 1.2998\n",
            "Epoch 4/200\n",
            "293/293 - 3s - loss: 1.3332 - val_loss: 1.2653\n",
            "Epoch 5/200\n",
            "293/293 - 3s - loss: 1.3154 - val_loss: 1.2531\n",
            "Epoch 6/200\n",
            "293/293 - 4s - loss: 1.2996 - val_loss: 1.2344\n",
            "Epoch 7/200\n",
            "293/293 - 3s - loss: 1.2824 - val_loss: 1.2295\n",
            "Epoch 8/200\n",
            "293/293 - 3s - loss: 1.2670 - val_loss: 1.2130\n",
            "Epoch 9/200\n",
            "293/293 - 3s - loss: 1.2595 - val_loss: 1.2281\n",
            "Epoch 10/200\n",
            "293/293 - 4s - loss: 1.2436 - val_loss: 1.1794\n",
            "Epoch 11/200\n",
            "293/293 - 3s - loss: 1.2285 - val_loss: 1.1680\n",
            "Epoch 12/200\n",
            "293/293 - 3s - loss: 1.2222 - val_loss: 1.1688\n",
            "Epoch 13/200\n",
            "293/293 - 3s - loss: 1.2147 - val_loss: 1.1553\n",
            "Epoch 14/200\n",
            "293/293 - 3s - loss: 1.2095 - val_loss: 1.1491\n",
            "Epoch 15/200\n",
            "293/293 - 3s - loss: 1.2079 - val_loss: 1.1545\n",
            "Epoch 16/200\n",
            "293/293 - 3s - loss: 1.1997 - val_loss: 1.1648\n",
            "Epoch 17/200\n",
            "293/293 - 3s - loss: 1.2005 - val_loss: 1.1458\n",
            "Epoch 18/200\n",
            "293/293 - 3s - loss: 1.1976 - val_loss: 1.1515\n",
            "Epoch 19/200\n",
            "293/293 - 3s - loss: 1.1926 - val_loss: 1.1322\n",
            "Epoch 20/200\n",
            "293/293 - 3s - loss: 1.1958 - val_loss: 1.1464\n",
            "Epoch 21/200\n",
            "293/293 - 3s - loss: 1.1869 - val_loss: 1.1463\n",
            "Epoch 22/200\n",
            "293/293 - 3s - loss: 1.1863 - val_loss: 1.1509\n",
            "Epoch 23/200\n",
            "293/293 - 3s - loss: 1.1861 - val_loss: 1.1297\n",
            "Epoch 24/200\n",
            "293/293 - 3s - loss: 1.1815 - val_loss: 1.1336\n",
            "Epoch 25/200\n",
            "293/293 - 3s - loss: 1.1780 - val_loss: 1.1231\n",
            "Epoch 26/200\n",
            "293/293 - 3s - loss: 1.1707 - val_loss: 1.1201\n",
            "Epoch 27/200\n",
            "293/293 - 3s - loss: 1.1734 - val_loss: 1.1180\n",
            "Epoch 28/200\n",
            "293/293 - 3s - loss: 1.1687 - val_loss: 1.1280\n",
            "Epoch 29/200\n",
            "293/293 - 3s - loss: 1.1653 - val_loss: 1.1288\n",
            "Epoch 30/200\n",
            "293/293 - 3s - loss: 1.1612 - val_loss: 1.1306\n",
            "Epoch 31/200\n",
            "293/293 - 3s - loss: 1.1578 - val_loss: 1.1064\n",
            "Epoch 32/200\n",
            "293/293 - 3s - loss: 1.1576 - val_loss: 1.1067\n",
            "Epoch 33/200\n",
            "293/293 - 4s - loss: 1.1530 - val_loss: 1.1081\n",
            "Epoch 34/200\n",
            "293/293 - 4s - loss: 1.1502 - val_loss: 1.1017\n",
            "Epoch 35/200\n",
            "293/293 - 4s - loss: 1.1498 - val_loss: 1.0997\n",
            "Epoch 36/200\n",
            "293/293 - 4s - loss: 1.1443 - val_loss: 1.0937\n",
            "Epoch 37/200\n",
            "293/293 - 3s - loss: 1.1402 - val_loss: 1.1066\n",
            "Epoch 38/200\n",
            "293/293 - 3s - loss: 1.1384 - val_loss: 1.0784\n",
            "Epoch 39/200\n",
            "293/293 - 3s - loss: 1.1377 - val_loss: 1.0977\n",
            "Epoch 40/200\n",
            "293/293 - 3s - loss: 1.1337 - val_loss: 1.0831\n",
            "Epoch 41/200\n",
            "293/293 - 3s - loss: 1.1319 - val_loss: 1.0817\n",
            "Epoch 42/200\n",
            "293/293 - 3s - loss: 1.1286 - val_loss: 1.0774\n",
            "Epoch 43/200\n",
            "293/293 - 3s - loss: 1.1312 - val_loss: 1.0762\n",
            "Epoch 44/200\n",
            "293/293 - 3s - loss: 1.1303 - val_loss: 1.0884\n",
            "Epoch 45/200\n",
            "293/293 - 3s - loss: 1.1238 - val_loss: 1.0772\n",
            "Epoch 46/200\n",
            "293/293 - 3s - loss: 1.1267 - val_loss: 1.0844\n",
            "Epoch 47/200\n",
            "293/293 - 3s - loss: 1.1238 - val_loss: 1.0914\n",
            "Epoch 48/200\n",
            "293/293 - 3s - loss: 1.1208 - val_loss: 1.0809\n",
            "\n",
            "Epoch 00048: ReduceLROnPlateau reducing learning rate to 0.00010000000474974513.\n",
            "Epoch 49/200\n",
            "293/293 - 3s - loss: 1.1181 - val_loss: 1.0752\n",
            "Epoch 50/200\n",
            "293/293 - 3s - loss: 1.1151 - val_loss: 1.0689\n",
            "Epoch 51/200\n",
            "293/293 - 3s - loss: 1.1129 - val_loss: 1.0697\n",
            "Epoch 52/200\n",
            "293/293 - 3s - loss: 1.1086 - val_loss: 1.0708\n",
            "Epoch 53/200\n",
            "293/293 - 3s - loss: 1.1105 - val_loss: 1.0709\n",
            "Epoch 54/200\n",
            "293/293 - 3s - loss: 1.1106 - val_loss: 1.0740\n",
            "Epoch 55/200\n",
            "293/293 - 3s - loss: 1.1144 - val_loss: 1.0754\n",
            "\n",
            "Epoch 00055: ReduceLROnPlateau reducing learning rate to 1.0000000474974514e-05.\n",
            "Epoch 56/200\n",
            "293/293 - 3s - loss: 1.1128 - val_loss: 1.0728\n",
            "Epoch 57/200\n",
            "293/293 - 3s - loss: 1.1098 - val_loss: 1.0726\n",
            "Epoch 58/200\n",
            "293/293 - 3s - loss: 1.1126 - val_loss: 1.0716\n",
            "Epoch 59/200\n",
            "293/293 - 3s - loss: 1.1123 - val_loss: 1.0721\n",
            "Epoch 60/200\n",
            "293/293 - 3s - loss: 1.1121 - val_loss: 1.0718\n",
            "\n",
            "Epoch 00060: ReduceLROnPlateau reducing learning rate to 1.0000000656873453e-06.\n",
            "Epoch 00060: early stopping\n"
          ],
          "name": "stdout"
        }
      ]
    },
    {
      "cell_type": "markdown",
      "metadata": {
        "id": "ucKbYb0U0cj9"
      },
      "source": [
        "# Train and validation plot"
      ]
    },
    {
      "cell_type": "code",
      "metadata": {
        "colab": {
          "base_uri": "https://localhost:8080/",
          "height": 295
        },
        "id": "IdJMBjwJc_sc",
        "outputId": "faf0df4e-74bf-4ae8-bdf3-d86fe321b7fd"
      },
      "source": [
        "# plot training history\n",
        "plt.plot(history.history['loss'])\n",
        "plt.plot(history.history['val_loss'])\n",
        "plt.yscale('log')\n",
        "plt.title('Training History')\n",
        "plt.ylabel('loss')\n",
        "plt.xlabel('epoch')\n",
        "plt.legend(['training', 'validation'], loc='upper right')\n",
        "plt.show()"
      ],
      "execution_count": 21,
      "outputs": [
        {
          "output_type": "display_data",
          "data": {
            "image/png": "[encoded data removed]",
            "text/plain": [
              "<Figure size 432x288 with 1 Axes>"
            ]
          },
          "metadata": {
            "tags": [],
            "needs_background": "light"
          }
        }
      ]
    },
    {
      "cell_type": "markdown",
      "metadata": {
        "id": "jfpOBhE6c_se"
      },
      "source": [
        "# ROC Curves to understand how well the model was trained"
      ]
    },
    {
      "cell_type": "code",
      "metadata": {
        "id": "h_GK6vOhc_se"
      },
      "source": [
        "labels = ['gluon', 'quark', 'W', 'Z', 'top']"
      ],
      "execution_count": 22,
      "outputs": []
    },
    {
      "cell_type": "code",
      "metadata": {
        "colab": {
          "base_uri": "https://localhost:8080/",
          "height": 285
        },
        "id": "ESWP-HJ1c_sf",
        "outputId": "80b0e49a-84fc-4bf8-c025-8d0869a720f5"
      },
      "source": [
        "predict_val = model.predict(X_val)\n",
        "df = pd.DataFrame()\n",
        "fpr = {}\n",
        "tpr = {}\n",
        "auc1 = {}\n",
        "\n",
        "plt.figure()\n",
        "for i, label in enumerate(labels):\n",
        "        df[label] = y_val[:,i]\n",
        "        df[label + '_pred'] = predict_val[:,i]\n",
        "\n",
        "        fpr[label], tpr[label], threshold = roc_curve(df[label],df[label+'_pred'])\n",
        "\n",
        "        auc1[label] = auc(fpr[label], tpr[label])\n",
        "\n",
        "        plt.plot(tpr[label],fpr[label],label='%s tagger, auc = %.1f%%'%(label,auc1[label]*100.))\n",
        "plt.semilogy()\n",
        "plt.xlabel(\"sig. efficiency\")\n",
        "plt.ylabel(\"bkg. mistag rate\")\n",
        "plt.ylim(0.000001,1)\n",
        "plt.grid(True)\n",
        "plt.legend(loc='lower right')\n",
        "plt.show()"
      ],
      "execution_count": 23,
      "outputs": [
        {
          "output_type": "display_data",
          "data": {
            "image/png": "[encoded data removed]",
            "text/plain": [
              "<Figure size 432x288 with 1 Axes>"
            ]
          },
          "metadata": {
            "tags": [],
            "needs_background": "light"
          }
        }
      ]
    }
  ]
}