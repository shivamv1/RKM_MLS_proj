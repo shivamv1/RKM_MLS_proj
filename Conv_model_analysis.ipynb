{
 "cells": [
  {
   "cell_type": "markdown",
   "metadata": {
    "id": "bd-VASYQc_sL"
   },
   "source": [
    "# Jet Tagging with **Conv2D** \n",
    "\n",
    "\n",
    "### Date: Jun 20, 2021 \n",
    "### Shivam Verma\n",
    "#### Research Scholar, Dept. of Physics, RKMVERI"
   ]
  },
  {
   "cell_type": "markdown",
   "metadata": {
    "id": "mOsXdM1K1FMd"
   },
   "source": [
    "**Objective**: Jet identification task using a Conv2D multiclass classifier."
   ]
  },
  {
   "cell_type": "markdown",
   "metadata": {
    "id": "AL9Z6bIn1OXd"
   },
   "source": [
    "**Problem**: The problem consists in identifying a given jet as a quark, a gluon, a W, a Z, or a top,\n",
    "based on a jet image, i.e., a 2D histogram of the transverse momentum ($p_T$) deposited in each of 100x100\n",
    "bins of a square window of the ($\\eta$, $\\phi$) plane, centered along the jet axis."
   ]
  },
  {
   "cell_type": "code",
   "execution_count": 3,
   "metadata": {
    "id": "fIvmX93Uc_sQ"
   },
   "outputs": [],
   "source": [
    "import h5py          #To read the data file\n",
    "import numpy as np\n",
    "import matplotlib.pyplot as plt\n",
    "import pandas as pd\n",
    "from sklearn.metrics import roc_curve, auc\n",
    "from sklearn.model_selection import train_test_split\n",
    "%matplotlib inline"
   ]
  },
  {
   "cell_type": "code",
   "execution_count": null,
   "metadata": {
    "id": "GtcbS6R6c_sR"
   },
   "outputs": [],
   "source": [
    "# kera packages\n",
    "from tensorflow.keras.models import Model\n",
    "from tensorflow.keras.layers import Dense, Input, Conv2D, Dropout, Flatten\n",
    "from tensorflow.keras.layers import MaxPooling2D, BatchNormalization, Activation\n",
    "from tensorflow.keras.callbacks import EarlyStopping, ReduceLROnPlateau, TerminateOnNaN"
   ]
  },
  {
   "cell_type": "markdown",
   "metadata": {
    "id": "g9FnYQ04c_sS"
   },
   "source": [
    "# Preparating the training and validation data"
   ]
  },
  {
   "cell_type": "code",
   "execution_count": null,
   "metadata": {
    "colab": {
     "base_uri": "https://localhost:8080/"
    },
    "id": "PAMdMmegdS4U",
    "outputId": "aa30d47d-7c30-4e0c-da55-a057b20f440a"
   },
   "outputs": [],
   "source": [
    "! git clone https://github.com/shivamv1/RKM_MLS_proj.git"
   ]
  },
  {
   "cell_type": "code",
   "execution_count": 2,
   "metadata": {
    "colab": {
     "base_uri": "https://localhost:8080/"
    },
    "id": "_0CjmiZYd1EA",
    "outputId": "202e5d43-9893-4e27-dd30-b30a9306058b"
   },
   "outputs": [
    {
     "name": "stdout",
     "output_type": "stream",
     "text": [
      "ls: cannot access 'RKM_MLS_proj/Data/JetDataset/': No such file or directory\r\n"
     ]
    }
   ],
   "source": [
    "inputDir = \"RKM_MLS_proj/Data/JetDataset\"\n",
    "! ls RKM_MLS_proj/Data/JetDataset/"
   ]
  },
  {
   "cell_type": "code",
   "execution_count": 5,
   "metadata": {
    "colab": {
     "base_uri": "https://localhost:8080/"
    },
    "id": "BygVAZxTc_sT",
    "outputId": "07347d7b-7362-4612-bac7-5a0237a69e68"
   },
   "outputs": [
    {
     "name": "stdout",
     "output_type": "stream",
     "text": [
      "Appending tutorials/Data/JetDataset/jetImage_7_100p_30000_40000.h5\n",
      "Appending tutorials/Data/JetDataset/jetImage_7_100p_60000_70000.h5\n",
      "Appending tutorials/Data/JetDataset/jetImage_7_100p_50000_60000.h5\n",
      "Appending tutorials/Data/JetDataset/jetImage_7_100p_10000_20000.h5\n",
      "Appending tutorials/Data/JetDataset/jetImage_7_100p_0_10000.h5\n",
      "(50000, 5) (50000, 100, 100)\n"
     ]
    }
   ],
   "source": [
    "target = np.array([])\n",
    "jetImage = np.array([])\n",
    "datafiles = ['%s/jetImage_7_100p_30000_40000.h5' %inputDir,\n",
    "           '%s/jetImage_7_100p_60000_70000.h5' %inputDir,\n",
    "            '%s/jetImage_7_100p_50000_60000.h5' %inputDir,\n",
    "            '%s/jetImage_7_100p_10000_20000.h5' %inputDir,\n",
    "            '%s/jetImage_7_100p_0_10000.h5' %inputDir]\n",
    "for fileIN in datafiles:\n",
    "    print(\"Appending %s\" %fileIN)\n",
    "    f = h5py.File(fileIN)\n",
    "    myjetImage = np.array(f.get(\"jetImage\"))\n",
    "    mytarget = np.array(f.get('jets')[0:,-6:-1])\n",
    "    jetImage = np.concatenate([jetImage, myjetImage], axis=0) if jetImage.size else myjetImage\n",
    "    target = np.concatenate([target, mytarget], axis=0) if target.size else mytarget\n",
    "    f.close()\n",
    "print(target.shape, jetImage.shape)"
   ]
  },
  {
   "cell_type": "markdown",
   "metadata": {
    "id": "8G1tu-bfc_sV"
   },
   "source": [
    "# Spliting Data Train:Test = 75:25"
   ]
  },
  {
   "cell_type": "code",
   "execution_count": 6,
   "metadata": {
    "colab": {
     "base_uri": "https://localhost:8080/"
    },
    "id": "In3xyDn7c_sW",
    "outputId": "5c4b9782-03bc-4e12-fe6a-d3bf9f3c997c"
   },
   "outputs": [
    {
     "name": "stdout",
     "output_type": "stream",
     "text": [
      "(37500, 100, 100) (12500, 100, 100) (37500, 5) (12500, 5)\n"
     ]
    }
   ],
   "source": [
    "X_train, X_val, y_train, y_val = train_test_split(jetImage, target, test_size=0.25)\n",
    "print(X_train.shape, X_val.shape, y_train.shape, y_val.shape)"
   ]
  },
  {
   "cell_type": "markdown",
   "metadata": {
    "id": "BTIiu1LTc_sX"
   },
   "source": [
    "Reshaping the training dataset since in keras  images are representable as $n \\times m \\times k$ tensors, where $n \\times m$ are the pixel dimenions and $k$ is the number of channels (e.g., 1 in a black $\\&$ while image, 3 for an RGB image). In our case, $k=1$. To comply to this, we add the channel index by reshaping the image dataset"
   ]
  },
  {
   "cell_type": "code",
   "execution_count": 7,
   "metadata": {
    "colab": {
     "base_uri": "https://localhost:8080/"
    },
    "id": "IxgUbqVBc_sX",
    "outputId": "03967b41-d90d-4f38-a79a-8aa0ec3501b9"
   },
   "outputs": [
    {
     "name": "stdout",
     "output_type": "stream",
     "text": [
      "(37500, 100, 100, 1) (12500, 100, 100, 1) (37500, 5) (12500, 5)\n"
     ]
    }
   ],
   "source": [
    "X_train = X_train.reshape((X_train.shape[0], X_train.shape[1], X_train.shape[2], 1))\n",
    "X_val = X_val.reshape((X_val.shape[0], X_val.shape[1], X_val.shape[2], 1))\n",
    "print(X_train.shape, X_val.shape, y_train.shape, y_val.shape)\n",
    "del jetImage, target"
   ]
  },
  {
   "cell_type": "markdown",
   "metadata": {
    "id": "HA24fJk5c_sY"
   },
   "source": [
    "# Model building"
   ]
  },
  {
   "cell_type": "code",
   "execution_count": 8,
   "metadata": {
    "id": "GA7_Ts22c_sZ"
   },
   "outputs": [],
   "source": [
    "img_rows = X_train.shape[1]\n",
    "img_cols = X_train.shape[2]\n",
    "dropoutRate = 0.25"
   ]
  },
  {
   "cell_type": "code",
   "execution_count": 9,
   "metadata": {
    "id": "83edbtqNc_sZ"
   },
   "outputs": [],
   "source": [
    "image_shape = (img_rows, img_cols, 1)\n",
    "#\n",
    "inputImage = Input(shape=(image_shape))\n",
    "x = Conv2D(10, kernel_size=(5,5), data_format=\"channels_last\", strides=(1, 1), padding=\"same\")(inputImage)\n",
    "x = BatchNormalization()(x)\n",
    "x = Activation('relu')(x)\n",
    "x = MaxPooling2D( pool_size = (5,5))(x)\n",
    "x = Dropout(dropoutRate)(x)\n",
    "#\n",
    "x = Conv2D(7, kernel_size=(3,3), data_format=\"channels_last\", strides=(1, 1), padding=\"same\")(x)\n",
    "x = BatchNormalization()(x)\n",
    "x = Activation('relu')(x)\n",
    "x = MaxPooling2D( pool_size = (3,3))(x)\n",
    "x = Dropout(dropoutRate)(x)\n",
    "#\n",
    "x = Flatten()(x)\n",
    "#\n",
    "x = Dense(5, activation='relu')(x)\n",
    "#\n",
    "output = Dense(5, activation='softmax')(x)\n",
    "#\n",
    "model = Model(inputs=inputImage, outputs=output)"
   ]
  },
  {
   "cell_type": "code",
   "execution_count": 10,
   "metadata": {
    "colab": {
     "base_uri": "https://localhost:8080/"
    },
    "id": "_bGl_kmic_sa",
    "outputId": "8616ffff-146a-41a6-9d0e-bde25176b25d"
   },
   "outputs": [
    {
     "name": "stdout",
     "output_type": "stream",
     "text": [
      "Model: \"model\"\n",
      "_________________________________________________________________\n",
      "Layer (type)                 Output Shape              Param #   \n",
      "=================================================================\n",
      "input_1 (InputLayer)         [(None, 100, 100, 1)]     0         \n",
      "_________________________________________________________________\n",
      "conv2d (Conv2D)              (None, 100, 100, 10)      260       \n",
      "_________________________________________________________________\n",
      "batch_normalization (BatchNo (None, 100, 100, 10)      40        \n",
      "_________________________________________________________________\n",
      "activation (Activation)      (None, 100, 100, 10)      0         \n",
      "_________________________________________________________________\n",
      "max_pooling2d (MaxPooling2D) (None, 20, 20, 10)        0         \n",
      "_________________________________________________________________\n",
      "dropout (Dropout)            (None, 20, 20, 10)        0         \n",
      "_________________________________________________________________\n",
      "conv2d_1 (Conv2D)            (None, 20, 20, 7)         637       \n",
      "_________________________________________________________________\n",
      "batch_normalization_1 (Batch (None, 20, 20, 7)         28        \n",
      "_________________________________________________________________\n",
      "activation_1 (Activation)    (None, 20, 20, 7)         0         \n",
      "_________________________________________________________________\n",
      "max_pooling2d_1 (MaxPooling2 (None, 6, 6, 7)           0         \n",
      "_________________________________________________________________\n",
      "dropout_1 (Dropout)          (None, 6, 6, 7)           0         \n",
      "_________________________________________________________________\n",
      "flatten (Flatten)            (None, 252)               0         \n",
      "_________________________________________________________________\n",
      "dense (Dense)                (None, 5)                 1265      \n",
      "_________________________________________________________________\n",
      "dense_1 (Dense)              (None, 5)                 30        \n",
      "=================================================================\n",
      "Total params: 2,260\n",
      "Trainable params: 2,226\n",
      "Non-trainable params: 34\n",
      "_________________________________________________________________\n"
     ]
    }
   ],
   "source": [
    "model.compile(loss='categorical_crossentropy', optimizer='adam')\n",
    "model.summary()"
   ]
  },
  {
   "cell_type": "markdown",
   "metadata": {
    "id": "8sV3yz8Lc_sb"
   },
   "source": [
    "# Training the model"
   ]
  },
  {
   "cell_type": "code",
   "execution_count": 11,
   "metadata": {
    "id": "L5JoeHSac_sb"
   },
   "outputs": [],
   "source": [
    "batch_size = 128\n",
    "n_epochs = 200"
   ]
  },
  {
   "cell_type": "code",
   "execution_count": 12,
   "metadata": {
    "colab": {
     "base_uri": "https://localhost:8080/"
    },
    "id": "V1Ft2vqVc_sc",
    "outputId": "c9dfbd63-3d19-4d3c-896f-2a0226b6155e"
   },
   "outputs": [
    {
     "name": "stdout",
     "output_type": "stream",
     "text": [
      "Epoch 1/200\n",
      "293/293 - 8s - loss: 1.4770 - val_loss: 1.2869\n",
      "Epoch 2/200\n",
      "293/293 - 4s - loss: 1.3129 - val_loss: 1.2252\n",
      "Epoch 3/200\n",
      "293/293 - 4s - loss: 1.2585 - val_loss: 1.1905\n",
      "Epoch 4/200\n",
      "293/293 - 4s - loss: 1.2223 - val_loss: 1.1667\n",
      "Epoch 5/200\n",
      "293/293 - 5s - loss: 1.1955 - val_loss: 1.1343\n",
      "Epoch 6/200\n",
      "293/293 - 5s - loss: 1.1708 - val_loss: 1.1128\n",
      "Epoch 7/200\n",
      "293/293 - 5s - loss: 1.1603 - val_loss: 1.0981\n",
      "Epoch 8/200\n",
      "293/293 - 5s - loss: 1.1524 - val_loss: 1.0939\n",
      "Epoch 9/200\n",
      "293/293 - 5s - loss: 1.1363 - val_loss: 1.0786\n",
      "Epoch 10/200\n",
      "293/293 - 5s - loss: 1.1315 - val_loss: 1.0749\n",
      "Epoch 11/200\n",
      "293/293 - 5s - loss: 1.1255 - val_loss: 1.0627\n",
      "Epoch 12/200\n",
      "293/293 - 5s - loss: 1.1175 - val_loss: 1.0712\n",
      "Epoch 13/200\n",
      "293/293 - 5s - loss: 1.1146 - val_loss: 1.0562\n",
      "Epoch 14/200\n",
      "293/293 - 5s - loss: 1.1094 - val_loss: 1.0573\n",
      "Epoch 15/200\n",
      "293/293 - 5s - loss: 1.1050 - val_loss: 1.0454\n",
      "Epoch 16/200\n",
      "293/293 - 4s - loss: 1.0975 - val_loss: 1.0447\n",
      "Epoch 17/200\n",
      "293/293 - 4s - loss: 1.0961 - val_loss: 1.0324\n",
      "Epoch 18/200\n",
      "293/293 - 4s - loss: 1.0946 - val_loss: 1.0407\n",
      "Epoch 19/200\n",
      "293/293 - 5s - loss: 1.0864 - val_loss: 1.0309\n",
      "Epoch 20/200\n",
      "293/293 - 5s - loss: 1.0859 - val_loss: 1.0271\n",
      "Epoch 21/200\n",
      "293/293 - 5s - loss: 1.0823 - val_loss: 1.0288\n",
      "Epoch 22/200\n",
      "293/293 - 4s - loss: 1.0831 - val_loss: 1.0294\n",
      "Epoch 23/200\n",
      "293/293 - 5s - loss: 1.0760 - val_loss: 1.0196\n",
      "Epoch 24/200\n",
      "293/293 - 5s - loss: 1.0754 - val_loss: 1.0135\n",
      "Epoch 25/200\n",
      "293/293 - 5s - loss: 1.0713 - val_loss: 1.0156\n",
      "Epoch 26/200\n",
      "293/293 - 5s - loss: 1.0709 - val_loss: 1.0093\n",
      "Epoch 27/200\n",
      "293/293 - 5s - loss: 1.0659 - val_loss: 1.0055\n",
      "Epoch 28/200\n",
      "293/293 - 5s - loss: 1.0613 - val_loss: 1.0054\n",
      "Epoch 29/200\n",
      "293/293 - 5s - loss: 1.0639 - val_loss: 1.0012\n",
      "Epoch 30/200\n",
      "293/293 - 5s - loss: 1.0560 - val_loss: 0.9979\n",
      "Epoch 31/200\n",
      "293/293 - 5s - loss: 1.0579 - val_loss: 1.0056\n",
      "Epoch 32/200\n",
      "293/293 - 5s - loss: 1.0568 - val_loss: 1.0099\n",
      "Epoch 33/200\n",
      "293/293 - 5s - loss: 1.0532 - val_loss: 1.0015\n",
      "Epoch 34/200\n",
      "293/293 - 5s - loss: 1.0514 - val_loss: 0.9978\n",
      "Epoch 35/200\n",
      "293/293 - 5s - loss: 1.0469 - val_loss: 0.9886\n",
      "Epoch 36/200\n",
      "293/293 - 5s - loss: 1.0487 - val_loss: 0.9915\n",
      "Epoch 37/200\n",
      "293/293 - 5s - loss: 1.0442 - val_loss: 0.9901\n",
      "Epoch 38/200\n",
      "293/293 - 5s - loss: 1.0486 - val_loss: 0.9876\n",
      "Epoch 39/200\n",
      "293/293 - 5s - loss: 1.0440 - val_loss: 0.9938\n",
      "Epoch 40/200\n",
      "293/293 - 5s - loss: 1.0406 - val_loss: 0.9866\n",
      "Epoch 41/200\n",
      "293/293 - 5s - loss: 1.0379 - val_loss: 0.9977\n",
      "Epoch 42/200\n",
      "293/293 - 5s - loss: 1.0376 - val_loss: 0.9893\n",
      "Epoch 43/200\n",
      "293/293 - 5s - loss: 1.0398 - val_loss: 0.9950\n",
      "Epoch 44/200\n",
      "293/293 - 5s - loss: 1.0348 - val_loss: 0.9913\n",
      "Epoch 45/200\n",
      "293/293 - 5s - loss: 1.0358 - val_loss: 0.9891\n",
      "\n",
      "Epoch 00045: ReduceLROnPlateau reducing learning rate to 0.00010000000474974513.\n",
      "Epoch 46/200\n",
      "293/293 - 5s - loss: 1.0249 - val_loss: 0.9776\n",
      "Epoch 47/200\n",
      "293/293 - 5s - loss: 1.0235 - val_loss: 0.9761\n",
      "Epoch 48/200\n",
      "293/293 - 5s - loss: 1.0230 - val_loss: 0.9768\n",
      "Epoch 49/200\n",
      "293/293 - 5s - loss: 1.0205 - val_loss: 0.9768\n",
      "Epoch 50/200\n",
      "293/293 - 5s - loss: 1.0203 - val_loss: 0.9785\n",
      "Epoch 51/200\n",
      "293/293 - 5s - loss: 1.0204 - val_loss: 0.9736\n",
      "Epoch 52/200\n",
      "293/293 - 5s - loss: 1.0223 - val_loss: 0.9737\n",
      "Epoch 53/200\n",
      "293/293 - 5s - loss: 1.0199 - val_loss: 0.9737\n",
      "Epoch 54/200\n",
      "293/293 - 5s - loss: 1.0163 - val_loss: 0.9738\n",
      "Epoch 55/200\n",
      "293/293 - 5s - loss: 1.0214 - val_loss: 0.9760\n",
      "Epoch 56/200\n",
      "293/293 - 5s - loss: 1.0206 - val_loss: 0.9715\n",
      "Epoch 57/200\n",
      "293/293 - 5s - loss: 1.0208 - val_loss: 0.9713\n",
      "Epoch 58/200\n",
      "293/293 - 5s - loss: 1.0203 - val_loss: 0.9739\n",
      "Epoch 59/200\n",
      "293/293 - 5s - loss: 1.0206 - val_loss: 0.9730\n",
      "Epoch 60/200\n",
      "293/293 - 5s - loss: 1.0144 - val_loss: 0.9728\n",
      "Epoch 61/200\n",
      "293/293 - 5s - loss: 1.0201 - val_loss: 0.9746\n",
      "Epoch 62/200\n",
      "293/293 - 5s - loss: 1.0167 - val_loss: 0.9724\n",
      "\n",
      "Epoch 00062: ReduceLROnPlateau reducing learning rate to 1.0000000474974514e-05.\n",
      "Epoch 63/200\n",
      "293/293 - 5s - loss: 1.0172 - val_loss: 0.9726\n",
      "Epoch 64/200\n",
      "293/293 - 5s - loss: 1.0173 - val_loss: 0.9727\n",
      "Epoch 65/200\n",
      "293/293 - 5s - loss: 1.0203 - val_loss: 0.9727\n",
      "Epoch 66/200\n",
      "293/293 - 5s - loss: 1.0168 - val_loss: 0.9729\n",
      "Epoch 67/200\n",
      "293/293 - 5s - loss: 1.0202 - val_loss: 0.9730\n",
      "\n",
      "Epoch 00067: ReduceLROnPlateau reducing learning rate to 1.0000000656873453e-06.\n",
      "Epoch 00067: early stopping\n"
     ]
    }
   ],
   "source": [
    "# train \n",
    "history = model.fit(X_train, y_train, epochs=n_epochs, batch_size=batch_size, verbose = 2,\n",
    "                validation_data=(X_val, y_val),\n",
    "                callbacks = [\n",
    "                EarlyStopping(monitor='val_loss', patience=10, verbose=1),\n",
    "                ReduceLROnPlateau(monitor='val_loss', factor=0.1, patience=5, verbose=1),\n",
    "                TerminateOnNaN()])"
   ]
  },
  {
   "cell_type": "markdown",
   "metadata": {
    "id": "ucKbYb0U0cj9"
   },
   "source": [
    "# Train and validation plot"
   ]
  },
  {
   "cell_type": "code",
   "execution_count": 13,
   "metadata": {
    "colab": {
     "base_uri": "https://localhost:8080/",
     "height": 295
    },
    "id": "IdJMBjwJc_sc",
    "outputId": "a8d985aa-902f-4a3a-bff5-d414047e09a4"
   },
   "outputs": [
    {
     "data": {
      "image/png": "[encoded data removed]",
      "text/plain": [
       "<Figure size 432x288 with 1 Axes>"
      ]
     },
     "metadata": {
      "needs_background": "light",
      "tags": []
     },
     "output_type": "display_data"
    }
   ],
   "source": [
    "# plot training history\n",
    "plt.plot(history.history['loss'])\n",
    "plt.plot(history.history['val_loss'])\n",
    "plt.yscale('log')\n",
    "plt.title('Training History')\n",
    "plt.ylabel('loss')\n",
    "plt.xlabel('epoch')\n",
    "plt.legend(['training', 'validation'], loc='upper right')\n",
    "plt.show()"
   ]
  },
  {
   "cell_type": "markdown",
   "metadata": {
    "id": "jfpOBhE6c_se"
   },
   "source": [
    "# ROC Curves to understand how well the model was trained"
   ]
  },
  {
   "cell_type": "code",
   "execution_count": 14,
   "metadata": {
    "id": "h_GK6vOhc_se"
   },
   "outputs": [],
   "source": [
    "labels = ['gluon', 'quark', 'W', 'Z', 'top']"
   ]
  },
  {
   "cell_type": "code",
   "execution_count": 15,
   "metadata": {
    "colab": {
     "base_uri": "https://localhost:8080/",
     "height": 285
    },
    "id": "ESWP-HJ1c_sf",
    "outputId": "41144c8a-bd41-4cc5-9b56-fd8b9bce3bef"
   },
   "outputs": [
    {
     "data": {
      "image/png": "[encoded data removed]",
      "text/plain": [
       "<Figure size 432x288 with 1 Axes>"
      ]
     },
     "metadata": {
      "needs_background": "light",
      "tags": []
     },
     "output_type": "display_data"
    }
   ],
   "source": [
    "predict_val = model.predict(X_val)\n",
    "df = pd.DataFrame()\n",
    "fpr = {}\n",
    "tpr = {}\n",
    "auc1 = {}\n",
    "\n",
    "plt.figure()\n",
    "for i, label in enumerate(labels):\n",
    "        df[label] = y_val[:,i]\n",
    "        df[label + '_pred'] = predict_val[:,i]\n",
    "\n",
    "        fpr[label], tpr[label], threshold = roc_curve(df[label],df[label+'_pred'])\n",
    "\n",
    "        auc1[label] = auc(fpr[label], tpr[label])\n",
    "\n",
    "        plt.plot(tpr[label],fpr[label],label='%s tagger, auc = %.1f%%'%(label,auc1[label]*100.))\n",
    "plt.semilogy()\n",
    "plt.xlabel(\"sig. efficiency\")\n",
    "plt.ylabel(\"bkg. mistag rate\")\n",
    "plt.ylim(0.000001,1)\n",
    "plt.grid(True)\n",
    "plt.legend(loc='lower right')\n",
    "plt.show()"
   ]
  },
  {
   "cell_type": "code",
   "execution_count": 15,
   "metadata": {
    "id": "mW2stNsic_sh"
   },
   "outputs": [],
   "source": []
  }
 ],
 "metadata": {
  "accelerator": "GPU",
  "colab": {
   "name": "Conv2d.ipynb",
   "provenance": []
  },
  "kernelspec": {
   "display_name": "Python 3",
   "language": "python",
   "name": "python3"
  },
  "language_info": {
   "codemirror_mode": {
    "name": "ipython",
    "version": 3
   },
   "file_extension": ".py",
   "mimetype": "text/x-python",
   "name": "python",
   "nbconvert_exporter": "python",
   "pygments_lexer": "ipython3",
   "version": "3.9.5"
  }
 },
 "nbformat": 4,
 "nbformat_minor": 1
}
